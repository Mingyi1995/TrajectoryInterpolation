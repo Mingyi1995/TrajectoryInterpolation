{
 "cells": [
  {
   "cell_type": "code",
   "execution_count": 2,
   "metadata": {},
   "outputs": [],
   "source": [
    "import pickle"
   ]
  },
  {
   "cell_type": "code",
   "execution_count": 1,
   "metadata": {},
   "outputs": [],
   "source": [
    "import pandas as pd"
   ]
  },
  {
   "cell_type": "code",
   "execution_count": 25,
   "metadata": {},
   "outputs": [
    {
     "name": "stdout",
     "output_type": "stream",
     "text": [
      "Collecting tqdm\n",
      "  Downloading tqdm-4.43.0-py2.py3-none-any.whl (59 kB)\n",
      "\u001b[K     |████████████████████████████████| 59 kB 7.8 MB/s  eta 0:00:01\n",
      "\u001b[?25hInstalling collected packages: tqdm\n",
      "Successfully installed tqdm-4.43.0\n",
      "Note: you may need to restart the kernel to use updated packages.\n"
     ]
    }
   ],
   "source": [
    "pip install tqdm"
   ]
  },
  {
   "cell_type": "code",
   "execution_count": 15,
   "metadata": {},
   "outputs": [],
   "source": [
    "from tqdm import tnrange, notebook,tqdm_notebook"
   ]
  },
  {
   "cell_type": "code",
   "execution_count": 3,
   "metadata": {},
   "outputs": [],
   "source": [
    "infile = open('20200106_AISTripMainData.pkl','rb')\n",
    "TripMain = pickle.load(infile)\n",
    "infile.close()"
   ]
  },
  {
   "cell_type": "code",
   "execution_count": 4,
   "metadata": {},
   "outputs": [],
   "source": [
    "infile = open('20200106_AISTripStatsData.pkl','rb')\n",
    "TripStat = pickle.load(infile)\n",
    "infile.close()"
   ]
  },
  {
   "cell_type": "code",
   "execution_count": 5,
   "metadata": {},
   "outputs": [
    {
     "data": {
      "text/html": [
       "<div>\n",
       "<style scoped>\n",
       "    .dataframe tbody tr th:only-of-type {\n",
       "        vertical-align: middle;\n",
       "    }\n",
       "\n",
       "    .dataframe tbody tr th {\n",
       "        vertical-align: top;\n",
       "    }\n",
       "\n",
       "    .dataframe thead th {\n",
       "        text-align: right;\n",
       "    }\n",
       "</style>\n",
       "<table border=\"1\" class=\"dataframe\">\n",
       "  <thead>\n",
       "    <tr style=\"text-align: right;\">\n",
       "      <th></th>\n",
       "      <th>MMSI</th>\n",
       "      <th>BaseDateTime</th>\n",
       "      <th>LAT</th>\n",
       "      <th>LON</th>\n",
       "      <th>SOG</th>\n",
       "      <th>COG</th>\n",
       "      <th>Heading</th>\n",
       "      <th>mmsiDiff</th>\n",
       "      <th>TimeDiff</th>\n",
       "      <th>Dist</th>\n",
       "      <th>Speed</th>\n",
       "      <th>point_id</th>\n",
       "      <th>Stationary</th>\n",
       "      <th>TimeCondition</th>\n",
       "      <th>medianSpeed</th>\n",
       "      <th>zScoreSpeed</th>\n",
       "      <th>Cos</th>\n",
       "      <th>trip_id</th>\n",
       "    </tr>\n",
       "  </thead>\n",
       "  <tbody>\n",
       "    <tr>\n",
       "      <td>17394</td>\n",
       "      <td>636626</td>\n",
       "      <td>2017-07-31 16:52:06</td>\n",
       "      <td>37.16915</td>\n",
       "      <td>-76.60553</td>\n",
       "      <td>2.8</td>\n",
       "      <td>173.3</td>\n",
       "      <td>511.0</td>\n",
       "      <td>True</td>\n",
       "      <td>90.0</td>\n",
       "      <td>0.126114</td>\n",
       "      <td>5.044564</td>\n",
       "      <td>17394</td>\n",
       "      <td>True</td>\n",
       "      <td>1.323529</td>\n",
       "      <td>32.054958</td>\n",
       "      <td>-0.896133</td>\n",
       "      <td>0.000000</td>\n",
       "      <td>17277</td>\n",
       "    </tr>\n",
       "    <tr>\n",
       "      <td>17395</td>\n",
       "      <td>636626</td>\n",
       "      <td>2017-07-31 16:54:06</td>\n",
       "      <td>37.16767</td>\n",
       "      <td>-76.60873</td>\n",
       "      <td>5.3</td>\n",
       "      <td>-171.8</td>\n",
       "      <td>511.0</td>\n",
       "      <td>True</td>\n",
       "      <td>120.0</td>\n",
       "      <td>0.328257</td>\n",
       "      <td>9.847713</td>\n",
       "      <td>17395</td>\n",
       "      <td>False</td>\n",
       "      <td>1.764706</td>\n",
       "      <td>32.054958</td>\n",
       "      <td>-0.736777</td>\n",
       "      <td>0.999898</td>\n",
       "      <td>17277</td>\n",
       "    </tr>\n",
       "    <tr>\n",
       "      <td>17396</td>\n",
       "      <td>636626</td>\n",
       "      <td>2017-07-31 16:56:36</td>\n",
       "      <td>37.16584</td>\n",
       "      <td>-76.61284</td>\n",
       "      <td>5.3</td>\n",
       "      <td>-159.4</td>\n",
       "      <td>511.0</td>\n",
       "      <td>True</td>\n",
       "      <td>150.0</td>\n",
       "      <td>0.417732</td>\n",
       "      <td>10.025564</td>\n",
       "      <td>17396</td>\n",
       "      <td>False</td>\n",
       "      <td>2.205882</td>\n",
       "      <td>32.054958</td>\n",
       "      <td>-0.730877</td>\n",
       "      <td>0.955376</td>\n",
       "      <td>17277</td>\n",
       "    </tr>\n",
       "    <tr>\n",
       "      <td>17397</td>\n",
       "      <td>636626</td>\n",
       "      <td>2017-07-31 16:58:15</td>\n",
       "      <td>37.16548</td>\n",
       "      <td>-76.61585</td>\n",
       "      <td>5.4</td>\n",
       "      <td>-139.5</td>\n",
       "      <td>511.0</td>\n",
       "      <td>True</td>\n",
       "      <td>99.0</td>\n",
       "      <td>0.270312</td>\n",
       "      <td>9.829515</td>\n",
       "      <td>17397</td>\n",
       "      <td>False</td>\n",
       "      <td>1.455882</td>\n",
       "      <td>32.054958</td>\n",
       "      <td>-0.737381</td>\n",
       "      <td>0.998304</td>\n",
       "      <td>17277</td>\n",
       "    </tr>\n",
       "    <tr>\n",
       "      <td>17398</td>\n",
       "      <td>636626</td>\n",
       "      <td>2017-07-31 16:59:26</td>\n",
       "      <td>37.16534</td>\n",
       "      <td>-76.61815</td>\n",
       "      <td>6.4</td>\n",
       "      <td>-144.0</td>\n",
       "      <td>511.0</td>\n",
       "      <td>True</td>\n",
       "      <td>71.0</td>\n",
       "      <td>0.204873</td>\n",
       "      <td>10.387903</td>\n",
       "      <td>17398</td>\n",
       "      <td>False</td>\n",
       "      <td>1.044118</td>\n",
       "      <td>32.054958</td>\n",
       "      <td>-0.718855</td>\n",
       "      <td>0.998649</td>\n",
       "      <td>17277</td>\n",
       "    </tr>\n",
       "  </tbody>\n",
       "</table>\n",
       "</div>"
      ],
      "text/plain": [
       "         MMSI         BaseDateTime       LAT       LON  SOG    COG  Heading  \\\n",
       "17394  636626  2017-07-31 16:52:06  37.16915 -76.60553  2.8  173.3    511.0   \n",
       "17395  636626  2017-07-31 16:54:06  37.16767 -76.60873  5.3 -171.8    511.0   \n",
       "17396  636626  2017-07-31 16:56:36  37.16584 -76.61284  5.3 -159.4    511.0   \n",
       "17397  636626  2017-07-31 16:58:15  37.16548 -76.61585  5.4 -139.5    511.0   \n",
       "17398  636626  2017-07-31 16:59:26  37.16534 -76.61815  6.4 -144.0    511.0   \n",
       "\n",
       "       mmsiDiff  TimeDiff      Dist      Speed  point_id  Stationary  \\\n",
       "17394      True      90.0  0.126114   5.044564     17394        True   \n",
       "17395      True     120.0  0.328257   9.847713     17395       False   \n",
       "17396      True     150.0  0.417732  10.025564     17396       False   \n",
       "17397      True      99.0  0.270312   9.829515     17397       False   \n",
       "17398      True      71.0  0.204873  10.387903     17398       False   \n",
       "\n",
       "       TimeCondition  medianSpeed  zScoreSpeed       Cos  trip_id  \n",
       "17394       1.323529    32.054958    -0.896133  0.000000    17277  \n",
       "17395       1.764706    32.054958    -0.736777  0.999898    17277  \n",
       "17396       2.205882    32.054958    -0.730877  0.955376    17277  \n",
       "17397       1.455882    32.054958    -0.737381  0.998304    17277  \n",
       "17398       1.044118    32.054958    -0.718855  0.998649    17277  "
      ]
     },
     "execution_count": 5,
     "metadata": {},
     "output_type": "execute_result"
    }
   ],
   "source": [
    "TripMain.head()"
   ]
  },
  {
   "cell_type": "code",
   "execution_count": 6,
   "metadata": {},
   "outputs": [
    {
     "data": {
      "text/html": [
       "<div>\n",
       "<style scoped>\n",
       "    .dataframe tbody tr th:only-of-type {\n",
       "        vertical-align: middle;\n",
       "    }\n",
       "\n",
       "    .dataframe tbody tr th {\n",
       "        vertical-align: top;\n",
       "    }\n",
       "\n",
       "    .dataframe thead th {\n",
       "        text-align: right;\n",
       "    }\n",
       "</style>\n",
       "<table border=\"1\" class=\"dataframe\">\n",
       "  <thead>\n",
       "    <tr style=\"text-align: right;\">\n",
       "      <th></th>\n",
       "      <th>trip_id</th>\n",
       "      <th>MMSI</th>\n",
       "      <th>Dist</th>\n",
       "      <th>TimeDiff</th>\n",
       "      <th>Count</th>\n",
       "      <th>Speed</th>\n",
       "      <th>Cos</th>\n",
       "    </tr>\n",
       "  </thead>\n",
       "  <tbody>\n",
       "    <tr>\n",
       "      <td>0</td>\n",
       "      <td>17277</td>\n",
       "      <td>636626</td>\n",
       "      <td>17.825440</td>\n",
       "      <td>1692.0</td>\n",
       "      <td>23</td>\n",
       "      <td>37.926467</td>\n",
       "      <td>0.889481</td>\n",
       "    </tr>\n",
       "    <tr>\n",
       "      <td>1</td>\n",
       "      <td>18037</td>\n",
       "      <td>641114</td>\n",
       "      <td>5.269649</td>\n",
       "      <td>1785.0</td>\n",
       "      <td>23</td>\n",
       "      <td>10.627863</td>\n",
       "      <td>0.905487</td>\n",
       "    </tr>\n",
       "    <tr>\n",
       "      <td>2</td>\n",
       "      <td>18220</td>\n",
       "      <td>641114</td>\n",
       "      <td>28.783308</td>\n",
       "      <td>9488.0</td>\n",
       "      <td>142</td>\n",
       "      <td>10.921154</td>\n",
       "      <td>0.940368</td>\n",
       "    </tr>\n",
       "    <tr>\n",
       "      <td>3</td>\n",
       "      <td>18222</td>\n",
       "      <td>641114</td>\n",
       "      <td>145.076523</td>\n",
       "      <td>38449.0</td>\n",
       "      <td>550</td>\n",
       "      <td>13.583591</td>\n",
       "      <td>0.978832</td>\n",
       "    </tr>\n",
       "    <tr>\n",
       "      <td>4</td>\n",
       "      <td>18502</td>\n",
       "      <td>641114</td>\n",
       "      <td>10.048207</td>\n",
       "      <td>3120.0</td>\n",
       "      <td>44</td>\n",
       "      <td>11.594085</td>\n",
       "      <td>0.942711</td>\n",
       "    </tr>\n",
       "  </tbody>\n",
       "</table>\n",
       "</div>"
      ],
      "text/plain": [
       "   trip_id    MMSI        Dist  TimeDiff  Count      Speed       Cos\n",
       "0    17277  636626   17.825440    1692.0     23  37.926467  0.889481\n",
       "1    18037  641114    5.269649    1785.0     23  10.627863  0.905487\n",
       "2    18220  641114   28.783308    9488.0    142  10.921154  0.940368\n",
       "3    18222  641114  145.076523   38449.0    550  13.583591  0.978832\n",
       "4    18502  641114   10.048207    3120.0     44  11.594085  0.942711"
      ]
     },
     "execution_count": 6,
     "metadata": {},
     "output_type": "execute_result"
    }
   ],
   "source": [
    "TripStat.head()"
   ]
  },
  {
   "cell_type": "code",
   "execution_count": 7,
   "metadata": {},
   "outputs": [
    {
     "data": {
      "text/plain": [
       "Index(['trip_id', 'MMSI', 'Dist', 'TimeDiff', 'Count', 'Speed', 'Cos'], dtype='object')"
      ]
     },
     "execution_count": 7,
     "metadata": {},
     "output_type": "execute_result"
    }
   ],
   "source": [
    "TripStat.columns"
   ]
  },
  {
   "cell_type": "markdown",
   "metadata": {},
   "source": [
    "###  select trips in trip dataset"
   ]
  },
  {
   "cell_type": "code",
   "execution_count": 9,
   "metadata": {},
   "outputs": [],
   "source": [
    "output = TripMain[TripMain['trip_id'].isin(TripStat['trip_id'].unique())]\n",
    "output.to_csv('merged.csv',index=False)"
   ]
  },
  {
   "cell_type": "code",
   "execution_count": 37,
   "metadata": {},
   "outputs": [],
   "source": [
    "# output = TripMain.merge(TripStat[['trip_id']],on=['trip_id'],how='left')\n",
    "# output.to_csv('merged.csv',index=False)"
   ]
  },
  {
   "cell_type": "code",
   "execution_count": 2,
   "metadata": {},
   "outputs": [],
   "source": [
    "output = pd.read_csv('merged.csv',parse_dates=['BaseDateTime'])\n",
    "output = output.dropna(subset=['BaseDateTime','LAT','LON','trip_id'])"
   ]
  },
  {
   "cell_type": "code",
   "execution_count": 3,
   "metadata": {},
   "outputs": [],
   "source": [
    "\n",
    "def sampleLat(df,OriginIndex,OriginLAT,OriginLON,TimeCount):\n",
    "    if df['inserted'] != False:\n",
    "        insertedIndex = df['Index']\n",
    "        if insertedIndex > 0:\n",
    "            wholeIndex = OriginIndex + [insertedIndex]\n",
    "            wholeIndex.sort()\n",
    "            location = wholeIndex.index(insertedIndex)\n",
    "#             print(location)\n",
    "            Lat0 = OriginLAT[location-1]\n",
    "            Lon0 = OriginLON[location-1]\n",
    "            Lat1 = OriginLAT[location]\n",
    "            Lon1 = OriginLON[location]\n",
    "            timeDelta = TimeCount[location] - TimeCount[location-1] \n",
    "            currentTime = df['timeCount']\n",
    "            timeGap = currentTime - TimeCount[location-1]\n",
    "            lat = ((Lat1 - Lat0) / timeDelta*timeGap) + Lat0\n",
    "            return lat\n",
    "                \n",
    "        else:\n",
    "            return df['LAT']\n",
    "    else:\n",
    "        return df['LAT']\n",
    "def sampleLon(df,OriginIndex,OriginLAT,OriginLON,TimeCount):\n",
    "    if df['inserted'] != False:\n",
    "        insertedIndex = df['Index']\n",
    "        if insertedIndex > 0:\n",
    "            wholeIndex = OriginIndex + [insertedIndex]\n",
    "            wholeIndex.sort()\n",
    "            location = wholeIndex.index(insertedIndex)\n",
    "#             print(location)\n",
    "            Lat0 = OriginLAT[location-1]\n",
    "            Lon0 = OriginLON[location-1]\n",
    "            Lat1 = OriginLAT[location]\n",
    "            Lon1 = OriginLON[location]\n",
    "            timeDelta = TimeCount[location] - TimeCount[location-1] \n",
    "            currentTime = df['timeCount']\n",
    "            timeGap = currentTime - TimeCount[location-1]\n",
    "            lon = (Lon1 - Lon0) / timeDelta*timeGap + Lon0\n",
    "#             print(location)\n",
    "\n",
    "            return lon\n",
    "        else:\n",
    "            return df['LON']\n",
    "    else:\n",
    "        return df['LON']"
   ]
  },
  {
   "cell_type": "code",
   "execution_count": 4,
   "metadata": {},
   "outputs": [],
   "source": [
    "rawData = output[['MMSI', 'BaseDateTime', 'LAT', 'LON', 'trip_id']]"
   ]
  },
  {
   "cell_type": "code",
   "execution_count": 12,
   "metadata": {},
   "outputs": [],
   "source": [
    "trip = output['trip_id'].unique().tolist()[0]\n",
    "# _ = [(lambda x: x+1)(i) for i in notebook.tqdm(outputut['trip_id'].unique().tolist()[1:])]\n",
    "\n",
    "outputSample = rawData[rawData['trip_id']==trip]\n",
    "outputSample = outputSample.dropna()\n",
    "outputSample['timeCount'] = outputSample['BaseDateTime'].apply(lambda x: (pd.Timestamp(x)\n",
    "                                                                      - outputSample.iloc[0,1]).seconds)\n",
    "count = (outputSample.iloc[-1,1] - outputSample.iloc[0,1]).seconds // 60\n",
    "timeDelta = [str((outputSample.iloc[0,1] + pd.Timedelta(seconds=60*i))) for i in range(count+1)]\n",
    "TimeDelta = pd.DataFrame({'BaseDateTime':timeDelta})\n",
    "#     TimeDelta['inserted'] = True\n",
    "TimeDelta['timeCount'] = [60*i for i in range(count+1)]\n",
    "outputSample['BaseDateTime'] = outputSample['BaseDateTime'].astype('str')\n",
    "outputSample['inserted'] = False\n",
    "outputSample = outputSample.merge(TimeDelta,on=['BaseDateTime'],how='outer').sort_values(by=['BaseDateTime'])\n",
    "outputSample = outputSample.reset_index()\n",
    "del outputSample['index']\n",
    "outputSample['Index'] = outputSample.index\n",
    "outputSample['timeCount_x'] = outputSample['timeCount_x'].fillna(0)\n",
    "outputSample['timeCount_y'] = outputSample['timeCount_y'].fillna(0)\n",
    "outputSample.loc[outputSample['inserted']==False,'timeCount_y'] = 0\n",
    "outputSample['timeCount'] = outputSample['timeCount_y'] + outputSample['timeCount_x']\n",
    "del outputSample['timeCount_y']\n",
    "del outputSample['timeCount_x']\n",
    "OriginIndex = outputSample[outputSample['inserted']==False]['Index'].tolist()\n",
    "OriginLAT = outputSample[outputSample['inserted']==False]['LAT'].tolist()\n",
    "OriginLON = outputSample[outputSample['inserted']==False]['LON'].tolist()\n",
    "TimeCount = outputSample[outputSample['inserted']==False]['timeCount'].tolist()\n",
    "outputSample['LAT'] = outputSample.apply(sampleLat, axis=1,args=(OriginIndex,OriginLAT,OriginLON,TimeCount))\n",
    "outputSample['LON'] = outputSample.apply(sampleLon, axis=1,args=(OriginIndex,OriginLAT,OriginLON,TimeCount))\n",
    "MMSI = outputSample.iloc[0,0]\n",
    "tripID = outputSample['trip_id'].unique().tolist()[0]\n",
    "# print(tripID)\n",
    "outputSample['MMSI'] = outputSample['MMSI'].fillna(MMSI)\n",
    "outputSample['trip_id'] = outputSample['trip_id'].fillna(tripID)\n",
    "f = open(\"doneTrip.csv\", \"w\")\n",
    "f.write('trip'+'\\n')\n",
    "f.write(str(outputSample.trip_id.unique().tolist()[0])+'\\n')\n",
    "f.close()\n",
    "result = outputSample[outputSample['BaseDateTime'].isin(timeDelta)]\n",
    "result = result[['MMSI','trip_id','BaseDateTime','LAT','LON']]\n",
    "result.to_csv('interpolated.csv',index=False)"
   ]
  },
  {
   "cell_type": "code",
   "execution_count": 13,
   "metadata": {},
   "outputs": [
    {
     "data": {
      "text/html": [
       "<div>\n",
       "<style scoped>\n",
       "    .dataframe tbody tr th:only-of-type {\n",
       "        vertical-align: middle;\n",
       "    }\n",
       "\n",
       "    .dataframe tbody tr th {\n",
       "        vertical-align: top;\n",
       "    }\n",
       "\n",
       "    .dataframe thead th {\n",
       "        text-align: right;\n",
       "    }\n",
       "</style>\n",
       "<table border=\"1\" class=\"dataframe\">\n",
       "  <thead>\n",
       "    <tr style=\"text-align: right;\">\n",
       "      <th></th>\n",
       "      <th>trip</th>\n",
       "    </tr>\n",
       "  </thead>\n",
       "  <tbody>\n",
       "    <tr>\n",
       "      <td>0</td>\n",
       "      <td>17277.0</td>\n",
       "    </tr>\n",
       "  </tbody>\n",
       "</table>\n",
       "</div>"
      ],
      "text/plain": [
       "      trip\n",
       "0  17277.0"
      ]
     },
     "execution_count": 13,
     "metadata": {},
     "output_type": "execute_result"
    }
   ],
   "source": [
    "doneTrip = pd.read_csv('doneTrip.csv')\n",
    "doneTrip.head()"
   ]
  },
  {
   "cell_type": "code",
   "execution_count": null,
   "metadata": {
    "scrolled": true
   },
   "outputs": [
    {
     "data": {
      "application/vnd.jupyter.widget-view+json": {
       "model_id": "d9cf22f5a7414a6bb9b80cdacaa7c85a",
       "version_major": 2,
       "version_minor": 0
      },
      "text/plain": [
       "HBox(children=(FloatProgress(value=0.0, max=81222.0), HTML(value='')))"
      ]
     },
     "metadata": {},
     "output_type": "display_data"
    }
   ],
   "source": [
    "pbar = notebook.tqdm(total=len(output['trip_id'].unique().tolist()[1:]))\n",
    "for trip in output['trip_id'].unique().tolist()[1:]:\n",
    "    pbar.update(1)\n",
    "    if trip in doneTrip.trip.unique().tolist():\n",
    "        pass\n",
    "    else:\n",
    "        outputSample = rawData[rawData['trip_id']==trip]\n",
    "        outputSample = outputSample.dropna()\n",
    "        outputSample['timeCount'] = outputSample['BaseDateTime'].apply(lambda x: (pd.Timestamp(x)\n",
    "                                                                              - outputSample.iloc[0,1]).seconds)\n",
    "        count = (outputSample.iloc[-1,1] - outputSample.iloc[0,1]).seconds // 60\n",
    "        timeDelta = [str((outputSample.iloc[0,1] + pd.Timedelta(seconds=60*i))) for i in range(count+1)]\n",
    "        TimeDelta = pd.DataFrame({'BaseDateTime':timeDelta})\n",
    "    #     TimeDelta['inserted'] = True\n",
    "        TimeDelta['timeCount'] = [60*i for i in range(count+1)]\n",
    "        outputSample['BaseDateTime'] = outputSample['BaseDateTime'].astype('str')\n",
    "        outputSample['inserted'] = False\n",
    "        outputSample = outputSample.merge(TimeDelta,on=['BaseDateTime'],how='outer').sort_values(by=['BaseDateTime'])\n",
    "        outputSample = outputSample.reset_index()\n",
    "        del outputSample['index']\n",
    "        outputSample['Index'] = outputSample.index\n",
    "        outputSample['timeCount_x'] = outputSample['timeCount_x'].fillna(0)\n",
    "        outputSample['timeCount_y'] = outputSample['timeCount_y'].fillna(0)\n",
    "        outputSample.loc[outputSample['inserted']==False,'timeCount_y'] = 0\n",
    "        outputSample['timeCount'] = outputSample['timeCount_y'] + outputSample['timeCount_x']\n",
    "    #     outputSample['inserted'] = outputSample['inserted_x'] * outputSample['inserted_y']\n",
    "        del outputSample['timeCount_y']\n",
    "        del outputSample['timeCount_x']\n",
    "        OriginIndex = outputSample[outputSample['inserted']==False]['Index'].tolist()\n",
    "        OriginLAT = outputSample[outputSample['inserted']==False]['LAT'].tolist()\n",
    "        OriginLON = outputSample[outputSample['inserted']==False]['LON'].tolist()\n",
    "        TimeCount = outputSample[outputSample['inserted']==False]['timeCount'].tolist()\n",
    "        outputSample['LAT'] = outputSample.apply(sampleLat, axis=1,args=(OriginIndex,OriginLAT,OriginLON,TimeCount))\n",
    "        outputSample['LON'] = outputSample.apply(sampleLon, axis=1,args=(OriginIndex,OriginLAT,OriginLON,TimeCount))\n",
    "        MMSI = outputSample.iloc[0,0]\n",
    "        tripID = outputSample['trip_id'].unique().tolist()[0]\n",
    "        outputSample['MMSI'] = outputSample['MMSI'].fillna(MMSI)\n",
    "        outputSample['trip_id'] = outputSample['trip_id'].fillna(tripID)\n",
    "        f = open(\"doneTrip.csv\", \"w\")\n",
    "#         f.write('trip'+'\\n')\n",
    "        f.write(str(outputSample.trip_id.unique().tolist()[0])+'\\n')\n",
    "        f.close()\n",
    "        result = outputSample[outputSample['BaseDateTime'].isin(timeDelta)]\n",
    "        result = result[['MMSI','trip_id','BaseDateTime','LAT','LON']]\n",
    "        result.to_csv('interpolated.csv',index=False)"
   ]
  },
  {
   "cell_type": "code",
   "execution_count": null,
   "metadata": {},
   "outputs": [],
   "source": []
  }
 ],
 "metadata": {
  "kernelspec": {
   "display_name": "Python 3",
   "language": "python",
   "name": "python3"
  },
  "language_info": {
   "codemirror_mode": {
    "name": "ipython",
    "version": 3
   },
   "file_extension": ".py",
   "mimetype": "text/x-python",
   "name": "python",
   "nbconvert_exporter": "python",
   "pygments_lexer": "ipython3",
   "version": "3.6.3"
  }
 },
 "nbformat": 4,
 "nbformat_minor": 2
}
